{
  "nbformat": 4,
  "nbformat_minor": 0,
  "metadata": {
    "colab": {
      "provenance": []
    },
    "kernelspec": {
      "name": "python3",
      "display_name": "Python 3"
    },
    "language_info": {
      "name": "python"
    }
  },
  "cells": [
    {
      "cell_type": "code",
      "execution_count": 2,
      "metadata": {
        "colab": {
          "base_uri": "https://localhost:8080/"
        },
        "id": "g0CzMssIbT76",
        "outputId": "80d57eb1-55d7-42ec-a499-d3bfce948fca"
      },
      "outputs": [
        {
          "output_type": "stream",
          "name": "stdout",
          "text": [
            "숫자를 입력하세요1\n",
            "홀수입니다\n"
          ]
        }
      ],
      "source": [
        "num = int(input(\"숫자를 입력하세요\"))\n",
        "if num%2==0:\n",
        "  print(\"짝수입니다\")\n",
        "else:\n",
        "  print(\"홀수입니다\")"
      ]
    },
    {
      "cell_type": "code",
      "source": [
        "score = int(input(\"점수를 입력하세요\"))\n",
        "if score >= 90 and score <= 100:\n",
        " print(\"A\")\n",
        "elif score < 90 and score>=70:\n",
        "  print(\"B\")\n",
        "elif score <70 and score >=60:\n",
        "  print(\"C\")\n",
        "elif score <60 and score>=0:\n",
        "  print(\"D\")\n",
        "else:\n",
        "  print(\"잘못된 점수입니다\")"
      ],
      "metadata": {
        "colab": {
          "base_uri": "https://localhost:8080/"
        },
        "id": "jRAaTEgego32",
        "outputId": "e8f8d672-ba7e-4bd3-b330-e4a4db38f82d"
      },
      "execution_count": 17,
      "outputs": [
        {
          "output_type": "stream",
          "name": "stdout",
          "text": [
            "점수를 입력하세요0\n",
            "D\n"
          ]
        }
      ]
    },
    {
      "cell_type": "code",
      "source": [
        "sum =0\n",
        "for a in range(1,101):\n",
        " sum = sum+a\n",
        "print(\"1부터 100까지의 합은\", sum , \"입니다.\")"
      ],
      "metadata": {
        "colab": {
          "base_uri": "https://localhost:8080/"
        },
        "id": "ZRhxYc59nblo",
        "outputId": "61090ccd-5551-4520-c5cc-e8b25ec54ecb"
      },
      "execution_count": 25,
      "outputs": [
        {
          "output_type": "stream",
          "name": "stdout",
          "text": [
            "1부터 100까지의 합은 5050 입니다.\n"
          ]
        }
      ]
    },
    {
      "cell_type": "code",
      "source": [
        "sum = 0\n",
        "for a in range(1, 6):\n",
        "  if a % 2 == 0:\n",
        "    sum = sum + a\n",
        "print(\"1부터 5까지의 짝수의 합은\", sum, \"입니다.\")\n",
        "for b in range(1,6):\n",
        "  if b % 2 ==1:\n",
        "    sum = sum+b\n",
        "print(\"1부터 5까지의 홀수의 합은\", sum, \"입니다.\")"
      ],
      "metadata": {
        "colab": {
          "base_uri": "https://localhost:8080/"
        },
        "id": "yPx5hoxcwyw3",
        "outputId": "7446a0b9-4410-49c3-b03d-d875656c912a"
      },
      "execution_count": 30,
      "outputs": [
        {
          "output_type": "stream",
          "name": "stdout",
          "text": [
            "1부터 5까지의 짝수의 합은 6 입니다.\n",
            "1부터 5까지의 홀수의 합은 15 입니다.\n"
          ]
        }
      ]
    },
    {
      "cell_type": "code",
      "source": [
        "sum =0\n",
        "sum1= 0\n",
        "\n",
        "for a in range(1,101):\n",
        "  if a %2 ==0:\n",
        "    sum1 = sum1+a\n",
        "  else:\n",
        "    sum = sum+a\n",
        "print(\"1부터 100까지의 짝수의 합은\", sum1, \"입니다.\")\n",
        "print(\"1부터 100까지의 홀수의 합은\", sum, \"입니다.\")\n"
      ],
      "metadata": {
        "colab": {
          "base_uri": "https://localhost:8080/"
        },
        "id": "y9pEMNc8ypnd",
        "outputId": "978d7272-02ba-4f79-944b-110ee09317cc"
      },
      "execution_count": 33,
      "outputs": [
        {
          "output_type": "stream",
          "name": "stdout",
          "text": [
            "1부터 100까지의 짝수의 합은 2550 입니다.\n",
            "1부터 100까지의 홀수의 합은 2500 입니다.\n"
          ]
        }
      ]
    },
    {
      "cell_type": "code",
      "source": [
        "sum =0\n",
        "money=100\n",
        "day=1\n",
        "\n",
        "while sum <50000:\n",
        "  sum = sum+ money\n",
        "  money = money+100\n",
        "  day = day+1\n",
        "print (\"총\",day,\"일이 걸립니다\")"
      ],
      "metadata": {
        "colab": {
          "base_uri": "https://localhost:8080/"
        },
        "id": "i-5KVsus02la",
        "outputId": "55914446-1b4f-4231-ddb5-c8b182f95e0e"
      },
      "execution_count": 34,
      "outputs": [
        {
          "output_type": "stream",
          "name": "stdout",
          "text": [
            "총 33 일이 걸립니다\n"
          ]
        }
      ]
    },
    {
      "cell_type": "code",
      "source": [
        "sum = 0\n",
        "while True: # 무한 루프를 시작\n",
        "  num = int(input(\"숫자를 입력하세요 (종료하려면 0 입력): \"))\n",
        "  if num == 0: # 입력된 숫자가 0이면 루프를 종료\n",
        "    break\n",
        "  sum = sum + num # 입력된 숫자를 sum에 더함\n",
        "\n",
        "print(\"총합은\", sum, \"입니다\")"
      ],
      "metadata": {
        "colab": {
          "base_uri": "https://localhost:8080/"
        },
        "id": "GndRAzcz3s-H",
        "outputId": "77ee90fa-700a-434c-8335-f349c9847e46"
      },
      "execution_count": 38,
      "outputs": [
        {
          "output_type": "stream",
          "name": "stdout",
          "text": [
            "숫자를 입력하세요 (종료하려면 0 입력): 8\n",
            "숫자를 입력하세요 (종료하려면 0 입력): 809\n",
            "숫자를 입력하세요 (종료하려면 0 입력): 0\n",
            "총합은 817 입니다\n"
          ]
        }
      ]
    },
    {
      "cell_type": "code",
      "source": [
        "num = int(input(\"숫자를 입력하세요\"))\n",
        "sum=0\n",
        "while num != 0:\n",
        "  sum = num+sum\n",
        "  num = int(input(\"숫자를 입력하세요\"))\n",
        "print(\"총합은\", sum, \"입니다\")\n"
      ],
      "metadata": {
        "colab": {
          "base_uri": "https://localhost:8080/"
        },
        "id": "J6ggUo-r5Fzt",
        "outputId": "961ad9d4-93ba-4479-cf72-556f6bce1733"
      },
      "execution_count": 41,
      "outputs": [
        {
          "output_type": "stream",
          "name": "stdout",
          "text": [
            "숫자를 입력하세요4\n",
            "숫자를 입력하세요5\n",
            "숫자를 입력하세요0\n",
            "총합은 9 입니다\n"
          ]
        }
      ]
    },
    {
      "cell_type": "code",
      "source": [],
      "metadata": {
        "id": "1d2KgFuF6n6E"
      },
      "execution_count": null,
      "outputs": []
    }
  ]
}