{
  "nbformat": 4,
  "nbformat_minor": 0,
  "metadata": {
    "colab": {
      "provenance": []
    },
    "kernelspec": {
      "name": "python3",
      "display_name": "Python 3"
    },
    "language_info": {
      "name": "python"
    }
  },
  "cells": [
    {
      "cell_type": "code",
      "execution_count": 2,
      "metadata": {
        "id": "S1Wr98ShiEXy"
      },
      "outputs": [],
      "source": [
        "english = ['a','b','c','d','e']"
      ]
    },
    {
      "cell_type": "code",
      "source": [
        "english"
      ],
      "metadata": {
        "colab": {
          "base_uri": "https://localhost:8080/"
        },
        "id": "Bu9iMB1ylLrN",
        "outputId": "6858457d-a192-4981-f3f9-830a4766db80"
      },
      "execution_count": 3,
      "outputs": [
        {
          "output_type": "execute_result",
          "data": {
            "text/plain": [
              "['a', 'b', 'c', 'd', 'e']"
            ]
          },
          "metadata": {},
          "execution_count": 3
        }
      ]
    },
    {
      "cell_type": "code",
      "source": [
        "nums = [1000, 2500, 3000, 1500, 5000]\n"
      ],
      "metadata": {
        "id": "MXijLdKEl3hq"
      },
      "execution_count": 12,
      "outputs": []
    },
    {
      "cell_type": "code",
      "source": [
        "for i in range(len(nums)):\n",
        "    nums[i] = nums[i] * 1.05"
      ],
      "metadata": {
        "id": "UYp89ySRmZjS"
      },
      "execution_count": 13,
      "outputs": []
    },
    {
      "cell_type": "code",
      "source": [
        "nums"
      ],
      "metadata": {
        "colab": {
          "base_uri": "https://localhost:8080/"
        },
        "id": "SMW7fCCrm0Ja",
        "outputId": "d6cfbc12-fee7-469e-e760-f38bb9e0dbde"
      },
      "execution_count": 14,
      "outputs": [
        {
          "output_type": "execute_result",
          "data": {
            "text/plain": [
              "[1050.0, 2625.0, 3150.0, 1575.0, 5250.0]"
            ]
          },
          "metadata": {},
          "execution_count": 14
        }
      ]
    },
    {
      "cell_type": "code",
      "source": [
        "books[]"
      ],
      "metadata": {
        "colab": {
          "base_uri": "https://localhost:8080/",
          "height": 110
        },
        "id": "w-kTEuICnMXR",
        "outputId": "c5c74ac2-b5cb-467c-9e39-47b741ab8d63"
      },
      "execution_count": 15,
      "outputs": [
        {
          "output_type": "error",
          "ename": "SyntaxError",
          "evalue": "invalid syntax (ipython-input-3550582138.py, line 1)",
          "traceback": [
            "\u001b[0;36m  File \u001b[0;32m\"/tmp/ipython-input-3550582138.py\"\u001b[0;36m, line \u001b[0;32m1\u001b[0m\n\u001b[0;31m    books[]\u001b[0m\n\u001b[0m          ^\u001b[0m\n\u001b[0;31mSyntaxError\u001b[0m\u001b[0;31m:\u001b[0m invalid syntax\n"
          ]
        }
      ]
    },
    {
      "cell_type": "code",
      "source": [
        "books =[]"
      ],
      "metadata": {
        "id": "tPb4HEjJn1vA"
      },
      "execution_count": 16,
      "outputs": []
    },
    {
      "cell_type": "code",
      "source": [
        "books.append('파이썬')"
      ],
      "metadata": {
        "id": "OMw7E5UwoDeR"
      },
      "execution_count": 19,
      "outputs": []
    },
    {
      "cell_type": "code",
      "source": [
        "books.append('c')"
      ],
      "metadata": {
        "id": "z0MbPJYYoRqo"
      },
      "execution_count": 20,
      "outputs": []
    },
    {
      "cell_type": "code",
      "source": [
        "books"
      ],
      "metadata": {
        "colab": {
          "base_uri": "https://localhost:8080/"
        },
        "id": "IyJV57UcoF4B",
        "outputId": "4144c2e6-d272-4443-d91c-4245ca1ebcb5"
      },
      "execution_count": 21,
      "outputs": [
        {
          "output_type": "execute_result",
          "data": {
            "text/plain": [
              "['파이썬', 'c']"
            ]
          },
          "metadata": {},
          "execution_count": 21
        }
      ]
    },
    {
      "cell_type": "code",
      "source": [
        "books.append('자바')"
      ],
      "metadata": {
        "id": "-cpA9_zpoW6g"
      },
      "execution_count": 22,
      "outputs": []
    },
    {
      "cell_type": "code",
      "source": [
        "books.insert(2,'go')"
      ],
      "metadata": {
        "id": "d2LIXLz1onhx"
      },
      "execution_count": 23,
      "outputs": []
    },
    {
      "cell_type": "code",
      "source": [
        "books"
      ],
      "metadata": {
        "colab": {
          "base_uri": "https://localhost:8080/"
        },
        "id": "EavoefJToyJA",
        "outputId": "6aa57895-c00b-4e11-d7fe-ed7ae3dda066"
      },
      "execution_count": 24,
      "outputs": [
        {
          "output_type": "execute_result",
          "data": {
            "text/plain": [
              "['파이썬', 'c', 'go', '자바']"
            ]
          },
          "metadata": {},
          "execution_count": 24
        }
      ]
    },
    {
      "cell_type": "code",
      "source": [
        "books.extend(('C++', 'pascal'))"
      ],
      "metadata": {
        "id": "OlNrLAewozDI"
      },
      "execution_count": 27,
      "outputs": []
    },
    {
      "cell_type": "code",
      "source": [
        "books.pop()"
      ],
      "metadata": {
        "colab": {
          "base_uri": "https://localhost:8080/",
          "height": 147
        },
        "id": "YmUwJJwepESP",
        "outputId": "992d7eba-800f-4400-d174-c48da46f1c5c"
      },
      "execution_count": 51,
      "outputs": [
        {
          "output_type": "error",
          "ename": "IndexError",
          "evalue": "pop from empty list",
          "traceback": [
            "\u001b[0;31m---------------------------------------------------------------------------\u001b[0m",
            "\u001b[0;31mIndexError\u001b[0m                                Traceback (most recent call last)",
            "\u001b[0;32m/tmp/ipython-input-2138095773.py\u001b[0m in \u001b[0;36m<cell line: 0>\u001b[0;34m()\u001b[0m\n\u001b[0;32m----> 1\u001b[0;31m \u001b[0mbooks\u001b[0m\u001b[0;34m.\u001b[0m\u001b[0mpop\u001b[0m\u001b[0;34m(\u001b[0m\u001b[0;34m)\u001b[0m\u001b[0;34m\u001b[0m\u001b[0;34m\u001b[0m\u001b[0m\n\u001b[0m",
            "\u001b[0;31mIndexError\u001b[0m: pop from empty list"
          ]
        }
      ]
    },
    {
      "cell_type": "code",
      "source": [
        "books.remove('c')"
      ],
      "metadata": {
        "id": "Zu_4WV3ypfI3"
      },
      "execution_count": 29,
      "outputs": []
    },
    {
      "cell_type": "code",
      "source": [
        "books"
      ],
      "metadata": {
        "colab": {
          "base_uri": "https://localhost:8080/"
        },
        "id": "dEUHDTDLp8sG",
        "outputId": "be8313be-43a5-4bec-bcdd-59611e4d35ba"
      },
      "execution_count": 50,
      "outputs": [
        {
          "output_type": "execute_result",
          "data": {
            "text/plain": [
              "[]"
            ]
          },
          "metadata": {},
          "execution_count": 50
        }
      ]
    },
    {
      "cell_type": "code",
      "source": [
        "books"
      ],
      "metadata": {
        "colab": {
          "base_uri": "https://localhost:8080/"
        },
        "id": "4SCuOYtgqL9u",
        "outputId": "b2ce5d5d-6ce8-4e6d-fcf3-76454a9f724a"
      },
      "execution_count": 49,
      "outputs": [
        {
          "output_type": "execute_result",
          "data": {
            "text/plain": [
              "[]"
            ]
          },
          "metadata": {},
          "execution_count": 49
        }
      ]
    },
    {
      "cell_type": "code",
      "source": [
        "books.reverse()"
      ],
      "metadata": {
        "id": "XWvmaN24qMwf"
      },
      "execution_count": 33,
      "outputs": []
    },
    {
      "cell_type": "code",
      "source": [
        "nums.reverse()"
      ],
      "metadata": {
        "id": "z50k444CqaUu"
      },
      "execution_count": 35,
      "outputs": []
    },
    {
      "cell_type": "code",
      "source": [
        "nums"
      ],
      "metadata": {
        "colab": {
          "base_uri": "https://localhost:8080/"
        },
        "id": "ZHT2oLXGqd_2",
        "outputId": "a7c9e582-df1c-49dc-8e83-b2e3587cad36"
      },
      "execution_count": 38,
      "outputs": [
        {
          "output_type": "execute_result",
          "data": {
            "text/plain": [
              "[5250.0, 1575.0, 3150.0, 2625.0, 1050.0]"
            ]
          },
          "metadata": {},
          "execution_count": 38
        }
      ]
    },
    {
      "cell_type": "code",
      "source": [
        "nums.sort(reverse=True)"
      ],
      "metadata": {
        "id": "mvUQuygsqg6d"
      },
      "execution_count": 40,
      "outputs": []
    },
    {
      "cell_type": "code",
      "source": [
        "nums"
      ],
      "metadata": {
        "colab": {
          "base_uri": "https://localhost:8080/"
        },
        "id": "WPDmUlMQqh7V",
        "outputId": "d54c986d-acab-43a4-8bc6-3af4555306bd"
      },
      "execution_count": 41,
      "outputs": [
        {
          "output_type": "execute_result",
          "data": {
            "text/plain": [
              "[5250.0, 3150.0, 2625.0, 1575.0, 1050.0]"
            ]
          },
          "metadata": {},
          "execution_count": 41
        }
      ]
    },
    {
      "cell_type": "code",
      "source": [
        "'자바' in books"
      ],
      "metadata": {
        "colab": {
          "base_uri": "https://localhost:8080/"
        },
        "id": "DDPqSyvSq1Rd",
        "outputId": "8145b30f-c899-421f-af5c-9254afe0e654"
      },
      "execution_count": 45,
      "outputs": [
        {
          "output_type": "execute_result",
          "data": {
            "text/plain": [
              "False"
            ]
          },
          "metadata": {},
          "execution_count": 45
        }
      ]
    },
    {
      "cell_type": "code",
      "source": [
        "books.index('자바')"
      ],
      "metadata": {
        "colab": {
          "base_uri": "https://localhost:8080/",
          "height": 147
        },
        "id": "DKTVjaqjrWpt",
        "outputId": "6649547f-6fc4-493a-d575-4d81d22d0d4a"
      },
      "execution_count": 52,
      "outputs": [
        {
          "output_type": "error",
          "ename": "ValueError",
          "evalue": "'자바' is not in list",
          "traceback": [
            "\u001b[0;31m---------------------------------------------------------------------------\u001b[0m",
            "\u001b[0;31mValueError\u001b[0m                                Traceback (most recent call last)",
            "\u001b[0;32m/tmp/ipython-input-3545355390.py\u001b[0m in \u001b[0;36m<cell line: 0>\u001b[0;34m()\u001b[0m\n\u001b[0;32m----> 1\u001b[0;31m \u001b[0mbooks\u001b[0m\u001b[0;34m.\u001b[0m\u001b[0mindex\u001b[0m\u001b[0;34m(\u001b[0m\u001b[0;34m'자바'\u001b[0m\u001b[0;34m)\u001b[0m\u001b[0;34m\u001b[0m\u001b[0;34m\u001b[0m\u001b[0m\n\u001b[0m",
            "\u001b[0;31mValueError\u001b[0m: '자바' is not in list"
          ]
        }
      ]
    },
    {
      "cell_type": "code",
      "source": [
        "import random; random.choice(nums)"
      ],
      "metadata": {
        "colab": {
          "base_uri": "https://localhost:8080/"
        },
        "id": "ylMmB80Xrl-u",
        "outputId": "6cfff51b-35f0-49d9-c5da-7263da958038"
      },
      "execution_count": 55,
      "outputs": [
        {
          "output_type": "execute_result",
          "data": {
            "text/plain": [
              "2625.0"
            ]
          },
          "metadata": {},
          "execution_count": 55
        }
      ]
    },
    {
      "cell_type": "code",
      "source": [
        "sum(nums)"
      ],
      "metadata": {
        "colab": {
          "base_uri": "https://localhost:8080/"
        },
        "id": "XcOKx1K7sVgE",
        "outputId": "fa2632e2-0c18-4a40-b9f8-096a5de81e00"
      },
      "execution_count": 56,
      "outputs": [
        {
          "output_type": "execute_result",
          "data": {
            "text/plain": [
              "13650.0"
            ]
          },
          "metadata": {},
          "execution_count": 56
        }
      ]
    },
    {
      "cell_type": "code",
      "source": [],
      "metadata": {
        "id": "m7NRFOuKsk4D"
      },
      "execution_count": null,
      "outputs": []
    },
    {
      "cell_type": "code",
      "metadata": {
        "colab": {
          "base_uri": "https://localhost:8080/"
        },
        "id": "fd424235",
        "outputId": "183ef1c5-c1e3-4077-8da8-453d1ff85fa6"
      },
      "source": [
        "total_sum = 0\n",
        "for number in nums:\n",
        "    total_sum += number\n",
        "print(total_sum)"
      ],
      "execution_count": 57,
      "outputs": [
        {
          "output_type": "stream",
          "name": "stdout",
          "text": [
            "13650.0\n"
          ]
        }
      ]
    },
    {
      "cell_type": "code",
      "metadata": {
        "colab": {
          "base_uri": "https://localhost:8080/"
        },
        "id": "d53e6e00",
        "outputId": "144e9140-5569-43bf-c325-114546620483"
      },
      "source": [
        "dynasties = [\n",
        "    '태조', '정종', '태종', '세종', '문종', '단종', '세조', '예종', '성종', '연산군',\n",
        "    '중종', '인종', '명종', '선조', '광해군', '인조', '효종', '현종', '숙종', '경종',\n",
        "    '영조', '정조', '순조', '헌종', '철종', '고종', '순종'\n",
        "]\n",
        "print(dynasties)"
      ],
      "execution_count": 58,
      "outputs": [
        {
          "output_type": "stream",
          "name": "stdout",
          "text": [
            "['태조', '정종', '태종', '세종', '문종', '단종', '세조', '예종', '성종', '연산군', '중종', '인종', '명종', '선조', '광해군', '인조', '효종', '현종', '숙종', '경종', '영조', '정조', '순조', '헌종', '철종', '고종', '순종']\n"
          ]
        }
      ]
    },
    {
      "cell_type": "code",
      "source": [
        "for i in range(len(dynasties)):\n",
        "  print(f\"{i+1}대 {dynasties[i]}\")"
      ],
      "metadata": {
        "colab": {
          "base_uri": "https://localhost:8080/"
        },
        "id": "qR26VHQgwd9X",
        "outputId": "1af245c2-c274-4ffa-8c37-45434aac22e1"
      },
      "execution_count": 59,
      "outputs": [
        {
          "output_type": "stream",
          "name": "stdout",
          "text": [
            "1대 태조\n",
            "2대 정종\n",
            "3대 태종\n",
            "4대 세종\n",
            "5대 문종\n",
            "6대 단종\n",
            "7대 세조\n",
            "8대 예종\n",
            "9대 성종\n",
            "10대 연산군\n",
            "11대 중종\n",
            "12대 인종\n",
            "13대 명종\n",
            "14대 선조\n",
            "15대 광해군\n",
            "16대 인조\n",
            "17대 효종\n",
            "18대 현종\n",
            "19대 숙종\n",
            "20대 경종\n",
            "21대 영조\n",
            "22대 정조\n",
            "23대 순조\n",
            "24대 헌종\n",
            "25대 철종\n",
            "26대 고종\n",
            "27대 순종\n"
          ]
        }
      ]
    },
    {
      "cell_type": "code",
      "source": [
        "char1 = '한글\\사용법'"
      ],
      "metadata": {
        "id": "ddOEDfM3w8ZP"
      },
      "execution_count": 72,
      "outputs": []
    },
    {
      "cell_type": "code",
      "source": [
        "char1"
      ],
      "metadata": {
        "colab": {
          "base_uri": "https://localhost:8080/",
          "height": 35
        },
        "id": "rXAf3Yli0me1",
        "outputId": "47ab7783-2da5-4fc5-a47e-831bb894ae2a"
      },
      "execution_count": 70,
      "outputs": [
        {
          "output_type": "execute_result",
          "data": {
            "text/plain": [
              "'한글\\\\사용법'"
            ],
            "application/vnd.google.colaboratory.intrinsic+json": {
              "type": "string"
            }
          },
          "metadata": {},
          "execution_count": 70
        }
      ]
    },
    {
      "cell_type": "code",
      "source": [
        "char2 ='메뉴얼'"
      ],
      "metadata": {
        "id": "SDiWu3kl02C7"
      },
      "execution_count": 73,
      "outputs": []
    },
    {
      "cell_type": "code",
      "source": [
        "print(char1+char2)"
      ],
      "metadata": {
        "colab": {
          "base_uri": "https://localhost:8080/"
        },
        "id": "o2-NhkXX1-Or",
        "outputId": "16aca378-74f3-40cc-eaae-f87f6decd4bb"
      },
      "execution_count": 74,
      "outputs": [
        {
          "output_type": "stream",
          "name": "stdout",
          "text": [
            "한글\\사용법메뉴얼\n"
          ]
        }
      ]
    },
    {
      "cell_type": "code",
      "source": [
        "'Python'.lower()"
      ],
      "metadata": {
        "colab": {
          "base_uri": "https://localhost:8080/",
          "height": 35
        },
        "id": "BzqA7v7A2CqZ",
        "outputId": "e252cbc0-3b51-427c-d9e8-0c55823ca7ee"
      },
      "execution_count": 75,
      "outputs": [
        {
          "output_type": "execute_result",
          "data": {
            "text/plain": [
              "'python'"
            ],
            "application/vnd.google.colaboratory.intrinsic+json": {
              "type": "string"
            }
          },
          "metadata": {},
          "execution_count": 75
        }
      ]
    },
    {
      "cell_type": "code",
      "source": [
        "ord('a')"
      ],
      "metadata": {
        "colab": {
          "base_uri": "https://localhost:8080/"
        },
        "id": "wBmgk3nV29zh",
        "outputId": "7bac95bf-10ed-422e-b481-cd2d939b4bb8"
      },
      "execution_count": 76,
      "outputs": [
        {
          "output_type": "execute_result",
          "data": {
            "text/plain": [
              "97"
            ]
          },
          "metadata": {},
          "execution_count": 76
        }
      ]
    },
    {
      "cell_type": "code",
      "source": [
        "a =input(\"순번 또는 왕의 이름을 입력\")\n",
        "if a.isdigit():\n",
        "  i=int(a)\n",
        "  print(dynasties[i-1])\n",
        "else:\n",
        "  print(dynasties.index(a)+1)"
      ],
      "metadata": {
        "colab": {
          "base_uri": "https://localhost:8080/"
        },
        "id": "GbBvCaVZ4Skn",
        "outputId": "d234b844-9191-4163-e6ed-2d4bcba6c156"
      },
      "execution_count": 84,
      "outputs": [
        {
          "output_type": "stream",
          "name": "stdout",
          "text": [
            "순번 또는 왕의 이름을 입력명종\n",
            "13\n"
          ]
        }
      ]
    },
    {
      "cell_type": "code",
      "source": [
        "1t=(1,2,3,4,5)"
      ],
      "metadata": {
        "colab": {
          "base_uri": "https://localhost:8080/",
          "height": 110
        },
        "id": "l7PxO2dt5Uav",
        "outputId": "5d3d9360-5ea5-4680-e807-70e674e8b9a8"
      },
      "execution_count": 87,
      "outputs": [
        {
          "output_type": "error",
          "ename": "SyntaxError",
          "evalue": "invalid decimal literal (ipython-input-1804073252.py, line 1)",
          "traceback": [
            "\u001b[0;36m  File \u001b[0;32m\"/tmp/ipython-input-1804073252.py\"\u001b[0;36m, line \u001b[0;32m1\u001b[0m\n\u001b[0;31m    1t=(1,2,3,4,5)\u001b[0m\n\u001b[0m    ^\u001b[0m\n\u001b[0;31mSyntaxError\u001b[0m\u001b[0;31m:\u001b[0m invalid decimal literal\n"
          ]
        }
      ]
    },
    {
      "cell_type": "code",
      "source": [
        "coffee={'아메리카노':2000,'라테':3000,'녹차':2500}"
      ],
      "metadata": {
        "id": "LB42Axzh9MS6"
      },
      "execution_count": 89,
      "outputs": []
    },
    {
      "cell_type": "code",
      "source": [
        "for k,v in coffee.items():\n",
        " print(k,v)"
      ],
      "metadata": {
        "colab": {
          "base_uri": "https://localhost:8080/"
        },
        "id": "GQLG5ukV-6cJ",
        "outputId": "1b540bf5-668a-47df-e318-8a5681f917cb"
      },
      "execution_count": 96,
      "outputs": [
        {
          "output_type": "stream",
          "name": "stdout",
          "text": [
            "아메리카노 2000\n",
            "라테 3000\n",
            "녹차 2500\n"
          ]
        }
      ]
    },
    {
      "cell_type": "code",
      "source": [
        "score = {'홍길동':100, '이순신':90,'강감찬':80}"
      ],
      "metadata": {
        "id": "2oJfBCyd-9Ir"
      },
      "execution_count": 99,
      "outputs": []
    },
    {
      "cell_type": "code",
      "source": [],
      "metadata": {
        "colab": {
          "base_uri": "https://localhost:8080/",
          "height": 147
        },
        "id": "sIFlPnvZA_pP",
        "outputId": "7786c3d7-f5be-46a3-8041-f668296f8d93"
      },
      "execution_count": 100,
      "outputs": [
        {
          "output_type": "error",
          "ename": "NameError",
          "evalue": "name 'average' is not defined",
          "traceback": [
            "\u001b[0;31m---------------------------------------------------------------------------\u001b[0m",
            "\u001b[0;31mNameError\u001b[0m                                 Traceback (most recent call last)",
            "\u001b[0;32m/tmp/ipython-input-838847256.py\u001b[0m in \u001b[0;36m<cell line: 0>\u001b[0;34m()\u001b[0m\n\u001b[0;32m----> 1\u001b[0;31m \u001b[0maverage\u001b[0m\u001b[0;34m(\u001b[0m\u001b[0mscore\u001b[0m\u001b[0;34m)\u001b[0m\u001b[0;34m\u001b[0m\u001b[0;34m\u001b[0m\u001b[0m\n\u001b[0m",
            "\u001b[0;31mNameError\u001b[0m: name 'average' is not defined"
          ]
        }
      ]
    },
    {
      "cell_type": "code",
      "source": [],
      "metadata": {
        "id": "y9nY37xQBdB_"
      },
      "execution_count": null,
      "outputs": []
    },
    {
      "cell_type": "code",
      "metadata": {
        "id": "973056fc"
      },
      "source": [
        "average_score_sum = sum(score.values()) / len(score)\n",
        "print(f\"평균 점수 (sum 함수 사용): {average_score_sum}\")"
      ],
      "execution_count": null,
      "outputs": []
    }
  ]
}